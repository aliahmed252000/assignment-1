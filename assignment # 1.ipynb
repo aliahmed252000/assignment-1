{
 "cells": [
  {
   "cell_type": "code",
   "execution_count": 9,
   "id": "6a637b97",
   "metadata": {},
   "outputs": [
    {
     "name": "stdout",
     "output_type": "stream",
     "text": [
      "Twinkle,twinkle,little star,\n",
      "        How I wonder what you are!\n",
      "               Up above the world so high,\n",
      "               like a dimond in the sky.\n",
      "Twinkle,twinkle,little star,\n",
      "        How I wonder what you are\n"
     ]
    }
   ],
   "source": [
    "print(\"\"\"Twinkle,twinkle,little star,\n",
    "        How I wonder what you are!\n",
    "               Up above the world so high,\n",
    "               like a dimond in the sky.\n",
    "Twinkle,twinkle,little star,\n",
    "        How I wonder what you are\"\"\")"
   ]
  },
  {
   "cell_type": "code",
   "execution_count": 2,
   "id": "66621b8e",
   "metadata": {},
   "outputs": [
    {
     "name": "stdout",
     "output_type": "stream",
     "text": [
      "Current date and time :\n",
      "2021-12-31 15: 02: 38\n"
     ]
    }
   ],
   "source": [
    "import datetime\n",
    "now = datetime.datetime.now()\n",
    "print(\"Current date and time :\")\n",
    "print(now.strftime(\"%Y-%m-%d %H: %M: %S\"))"
   ]
  },
  {
   "cell_type": "code",
   "execution_count": 11,
   "id": "46114b89",
   "metadata": {},
   "outputs": [
    {
     "name": "stdout",
     "output_type": "stream",
     "text": [
      "Input the radius of the circle :1.1\n",
      "The area of the of the circle with the radius1.1is:3.8013271108436504\n"
     ]
    }
   ],
   "source": [
    "from math import pi\n",
    "r = float(input (\"Input the radius of the circle :\"))\n",
    "print(\"The area of the of the circle with the radius\" + str(r) + \"is:\" + str(pi * r**2) )"
   ]
  },
  {
   "cell_type": "code",
   "execution_count": 4,
   "id": "c05f703a",
   "metadata": {},
   "outputs": [
    {
     "name": "stdout",
     "output_type": "stream",
     "text": [
      "Input your first name : Sheikh Ali\n",
      "Input your last name : Ahmed\n",
      "Hi Ahmed Sheikh Ali\n"
     ]
    }
   ],
   "source": [
    "fname = input(\"Input your first name : \")\n",
    "lname = input(\"Input your last name : \")\n",
    "print (\"Hi \" + lname + \" \" + fname)"
   ]
  },
  {
   "cell_type": "code",
   "execution_count": 6,
   "id": "886e17f6",
   "metadata": {},
   "outputs": [
    {
     "name": "stdout",
     "output_type": "stream",
     "text": [
      "Enter first number: 25\n",
      "Enter second number: 18\n",
      "The sum of 25 and 18 is 43.0\n"
     ]
    }
   ],
   "source": [
    "num1 = input('Enter first number: ')\n",
    "num2 = input('Enter second number: ')\n",
    "sum = float(num1) + float(num2)\n",
    "print('The sum of {0} and {1} is {2}'.format(num1, num2, sum))"
   ]
  }
 ],
 "metadata": {
  "kernelspec": {
   "display_name": "Python 3",
   "language": "python",
   "name": "python3"
  },
  "language_info": {
   "codemirror_mode": {
    "name": "ipython",
    "version": 3
   },
   "file_extension": ".py",
   "mimetype": "text/x-python",
   "name": "python",
   "nbconvert_exporter": "python",
   "pygments_lexer": "ipython3",
   "version": "3.8.8"
  }
 },
 "nbformat": 4,
 "nbformat_minor": 5
}
